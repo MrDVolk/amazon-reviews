{
 "cells": [
  {
   "cell_type": "code",
   "execution_count": 7,
   "metadata": {},
   "outputs": [
    {
     "name": "stderr",
     "output_type": "stream",
     "text": [
      "D:\\SoftwareProjects\\anaconda3\\envs\\tf-gpu\\lib\\site-packages\\tqdm\\std.py:697: FutureWarning: The Panel class is removed from pandas. Accessing it from the top-level namespace will also be removed in the next version\n",
      "  from pandas import Panel\n"
     ]
    }
   ],
   "source": [
    "import pandas as pd\n",
    "from tqdm import tqdm, tqdm_notebook, tqdm_pandas\n",
    "\n",
    "tqdm.pandas()"
   ]
  },
  {
   "cell_type": "markdown",
   "metadata": {},
   "source": [
    "# Load"
   ]
  },
  {
   "cell_type": "code",
   "execution_count": 8,
   "metadata": {},
   "outputs": [
    {
     "data": {
      "text/html": [
       "<div>\n",
       "<style scoped>\n",
       "    .dataframe tbody tr th:only-of-type {\n",
       "        vertical-align: middle;\n",
       "    }\n",
       "\n",
       "    .dataframe tbody tr th {\n",
       "        vertical-align: top;\n",
       "    }\n",
       "\n",
       "    .dataframe thead th {\n",
       "        text-align: right;\n",
       "    }\n",
       "</style>\n",
       "<table border=\"1\" class=\"dataframe\">\n",
       "  <thead>\n",
       "    <tr style=\"text-align: right;\">\n",
       "      <th></th>\n",
       "      <th>score</th>\n",
       "      <th>review</th>\n",
       "    </tr>\n",
       "  </thead>\n",
       "  <tbody>\n",
       "    <tr>\n",
       "      <th>0</th>\n",
       "      <td>1</td>\n",
       "      <td>Stuning even for the non-gamer: This sound tr...</td>\n",
       "    </tr>\n",
       "    <tr>\n",
       "      <th>1</th>\n",
       "      <td>1</td>\n",
       "      <td>The best soundtrack ever to anything.: I'm re...</td>\n",
       "    </tr>\n",
       "    <tr>\n",
       "      <th>2</th>\n",
       "      <td>1</td>\n",
       "      <td>Amazing!: This soundtrack is my favorite musi...</td>\n",
       "    </tr>\n",
       "    <tr>\n",
       "      <th>3</th>\n",
       "      <td>1</td>\n",
       "      <td>Excellent Soundtrack: I truly like this sound...</td>\n",
       "    </tr>\n",
       "    <tr>\n",
       "      <th>4</th>\n",
       "      <td>1</td>\n",
       "      <td>Remember, Pull Your Jaw Off The Floor After H...</td>\n",
       "    </tr>\n",
       "  </tbody>\n",
       "</table>\n",
       "</div>"
      ],
      "text/plain": [
       "   score                                             review\n",
       "0      1   Stuning even for the non-gamer: This sound tr...\n",
       "1      1   The best soundtrack ever to anything.: I'm re...\n",
       "2      1   Amazing!: This soundtrack is my favorite musi...\n",
       "3      1   Excellent Soundtrack: I truly like this sound...\n",
       "4      1   Remember, Pull Your Jaw Off The Floor After H..."
      ]
     },
     "execution_count": 8,
     "metadata": {},
     "output_type": "execute_result"
    }
   ],
   "source": [
    "df = pd.read_csv('amazon_reviews_sample.csv')\n",
    "df = df[['score', 'review']]\n",
    "df.head()"
   ]
  },
  {
   "cell_type": "code",
   "execution_count": 9,
   "metadata": {},
   "outputs": [
    {
     "name": "stderr",
     "output_type": "stream",
     "text": [
      "100%|██████████| 10000/10000 [00:00<00:00, 624765.99it/s]\n",
      "100%|██████████| 10000/10000 [00:00<00:00, 169467.51it/s]\n"
     ]
    }
   ],
   "source": [
    "df['char_count'] = df['review'].progress_apply(lambda row: len(row))\n",
    "df['word_count'] = df['review'].progress_apply(lambda row: len(row.split()))"
   ]
  },
  {
   "cell_type": "code",
   "execution_count": 10,
   "metadata": {},
   "outputs": [
    {
     "data": {
      "text/html": [
       "<div>\n",
       "<style scoped>\n",
       "    .dataframe tbody tr th:only-of-type {\n",
       "        vertical-align: middle;\n",
       "    }\n",
       "\n",
       "    .dataframe tbody tr th {\n",
       "        vertical-align: top;\n",
       "    }\n",
       "\n",
       "    .dataframe thead th {\n",
       "        text-align: right;\n",
       "    }\n",
       "</style>\n",
       "<table border=\"1\" class=\"dataframe\">\n",
       "  <thead>\n",
       "    <tr style=\"text-align: right;\">\n",
       "      <th></th>\n",
       "      <th>score</th>\n",
       "      <th>char_count</th>\n",
       "      <th>word_count</th>\n",
       "    </tr>\n",
       "  </thead>\n",
       "  <tbody>\n",
       "    <tr>\n",
       "      <th>count</th>\n",
       "      <td>10000.000000</td>\n",
       "      <td>10000.000000</td>\n",
       "      <td>10000.000000</td>\n",
       "    </tr>\n",
       "    <tr>\n",
       "      <th>mean</th>\n",
       "      <td>0.490300</td>\n",
       "      <td>441.702600</td>\n",
       "      <td>79.553200</td>\n",
       "    </tr>\n",
       "    <tr>\n",
       "      <th>std</th>\n",
       "      <td>0.499931</td>\n",
       "      <td>239.243635</td>\n",
       "      <td>43.023095</td>\n",
       "    </tr>\n",
       "    <tr>\n",
       "      <th>min</th>\n",
       "      <td>0.000000</td>\n",
       "      <td>104.000000</td>\n",
       "      <td>14.000000</td>\n",
       "    </tr>\n",
       "    <tr>\n",
       "      <th>25%</th>\n",
       "      <td>0.000000</td>\n",
       "      <td>241.000000</td>\n",
       "      <td>43.000000</td>\n",
       "    </tr>\n",
       "    <tr>\n",
       "      <th>50%</th>\n",
       "      <td>0.000000</td>\n",
       "      <td>394.000000</td>\n",
       "      <td>71.000000</td>\n",
       "    </tr>\n",
       "    <tr>\n",
       "      <th>75%</th>\n",
       "      <td>1.000000</td>\n",
       "      <td>608.000000</td>\n",
       "      <td>109.000000</td>\n",
       "    </tr>\n",
       "    <tr>\n",
       "      <th>max</th>\n",
       "      <td>1.000000</td>\n",
       "      <td>1018.000000</td>\n",
       "      <td>212.000000</td>\n",
       "    </tr>\n",
       "  </tbody>\n",
       "</table>\n",
       "</div>"
      ],
      "text/plain": [
       "              score    char_count    word_count\n",
       "count  10000.000000  10000.000000  10000.000000\n",
       "mean       0.490300    441.702600     79.553200\n",
       "std        0.499931    239.243635     43.023095\n",
       "min        0.000000    104.000000     14.000000\n",
       "25%        0.000000    241.000000     43.000000\n",
       "50%        0.000000    394.000000     71.000000\n",
       "75%        1.000000    608.000000    109.000000\n",
       "max        1.000000   1018.000000    212.000000"
      ]
     },
     "execution_count": 10,
     "metadata": {},
     "output_type": "execute_result"
    }
   ],
   "source": [
    "df.describe()"
   ]
  },
  {
   "cell_type": "markdown",
   "metadata": {},
   "source": [
    "# Preprocessing"
   ]
  },
  {
   "cell_type": "code",
   "execution_count": 11,
   "metadata": {},
   "outputs": [
    {
     "data": {
      "text/html": [
       "<div>\n",
       "<style scoped>\n",
       "    .dataframe tbody tr th:only-of-type {\n",
       "        vertical-align: middle;\n",
       "    }\n",
       "\n",
       "    .dataframe tbody tr th {\n",
       "        vertical-align: top;\n",
       "    }\n",
       "\n",
       "    .dataframe thead th {\n",
       "        text-align: right;\n",
       "    }\n",
       "</style>\n",
       "<table border=\"1\" class=\"dataframe\">\n",
       "  <thead>\n",
       "    <tr style=\"text-align: right;\">\n",
       "      <th></th>\n",
       "      <th>score</th>\n",
       "      <th>char_count</th>\n",
       "      <th>word_count</th>\n",
       "    </tr>\n",
       "  </thead>\n",
       "  <tbody>\n",
       "    <tr>\n",
       "      <th>score</th>\n",
       "      <td>1.000000</td>\n",
       "      <td>-0.044603</td>\n",
       "      <td>-0.051935</td>\n",
       "    </tr>\n",
       "    <tr>\n",
       "      <th>char_count</th>\n",
       "      <td>-0.044603</td>\n",
       "      <td>1.000000</td>\n",
       "      <td>0.989204</td>\n",
       "    </tr>\n",
       "    <tr>\n",
       "      <th>word_count</th>\n",
       "      <td>-0.051935</td>\n",
       "      <td>0.989204</td>\n",
       "      <td>1.000000</td>\n",
       "    </tr>\n",
       "  </tbody>\n",
       "</table>\n",
       "</div>"
      ],
      "text/plain": [
       "               score  char_count  word_count\n",
       "score       1.000000   -0.044603   -0.051935\n",
       "char_count -0.044603    1.000000    0.989204\n",
       "word_count -0.051935    0.989204    1.000000"
      ]
     },
     "execution_count": 11,
     "metadata": {},
     "output_type": "execute_result"
    }
   ],
   "source": [
    "df.corr()"
   ]
  },
  {
   "cell_type": "code",
   "execution_count": 21,
   "metadata": {},
   "outputs": [
    {
     "name": "stderr",
     "output_type": "stream",
     "text": [
      "[nltk_data] Downloading package stopwords to\n",
      "[nltk_data]     C:\\Users\\Dmitry\\AppData\\Roaming\\nltk_data...\n",
      "[nltk_data]   Package stopwords is already up-to-date!\n"
     ]
    }
   ],
   "source": [
    "import re\n",
    "import string\n",
    "import nltk\n",
    "import spacy\n",
    "from nltk.corpus import stopwords\n",
    "\n",
    "nltk.download('stopwords')\n",
    "english_stopwords = stopwords.words('english')\n",
    "english_stopwords = set(english_stopwords)\n",
    "\n",
    "nlp = spacy.load('en_core_web_sm')\n",
    "\n",
    "def collapse_same_letters(row):\n",
    "    row = re.sub(r'([a-z])\\1{2,}', '\\g<1>', row)\n",
    "    return row\n",
    "\n",
    "def remove_stop_words(row):\n",
    "    words = row.split(' ')\n",
    "    row = ' '.join([word for word in words if word not in english_stopwords])\n",
    "    return row\n",
    "\n",
    "def preprocessing(row):\n",
    "    row = row.lower()\n",
    "    row = row.replace('\\n', ' ')\n",
    "    row = row.replace('\\t', ' ')\n",
    "    \n",
    "    row = collapse_same_letters(row)    \n",
    "    row = remove_stop_words(row)\n",
    "        \n",
    "    row = re.sub(r'[^a-z ]', ' ', row)\n",
    "    row = re.sub(r'[a-z]{35,}', ' ', row)\n",
    "    row = re.sub(r' {2,}', ' ', row)\n",
    "    row = row.strip()\n",
    "    \n",
    "    return row"
   ]
  },
  {
   "cell_type": "code",
   "execution_count": 22,
   "metadata": {},
   "outputs": [
    {
     "name": "stderr",
     "output_type": "stream",
     "text": [
      "100%|██████████| 10000/10000 [00:00<00:00, 15624.45it/s]\n",
      "100%|██████████| 10000/10000 [01:36<00:00, 103.68it/s]\n",
      "100%|██████████| 10000/10000 [00:00<00:00, 178551.68it/s]\n"
     ]
    },
    {
     "data": {
      "text/html": [
       "<div>\n",
       "<style scoped>\n",
       "    .dataframe tbody tr th:only-of-type {\n",
       "        vertical-align: middle;\n",
       "    }\n",
       "\n",
       "    .dataframe tbody tr th {\n",
       "        vertical-align: top;\n",
       "    }\n",
       "\n",
       "    .dataframe thead th {\n",
       "        text-align: right;\n",
       "    }\n",
       "</style>\n",
       "<table border=\"1\" class=\"dataframe\">\n",
       "  <thead>\n",
       "    <tr style=\"text-align: right;\">\n",
       "      <th></th>\n",
       "      <th>score</th>\n",
       "      <th>review</th>\n",
       "      <th>char_count</th>\n",
       "      <th>word_count</th>\n",
       "      <th>preprocessed</th>\n",
       "      <th>pp_wc</th>\n",
       "    </tr>\n",
       "  </thead>\n",
       "  <tbody>\n",
       "    <tr>\n",
       "      <th>0</th>\n",
       "      <td>1</td>\n",
       "      <td>Stuning even for the non-gamer: This sound tr...</td>\n",
       "      <td>429</td>\n",
       "      <td>80</td>\n",
       "      <td>stun even non gamer sound track beautiful pain...</td>\n",
       "      <td>44</td>\n",
       "    </tr>\n",
       "    <tr>\n",
       "      <th>1</th>\n",
       "      <td>1</td>\n",
       "      <td>The best soundtrack ever to anything.: I'm re...</td>\n",
       "      <td>512</td>\n",
       "      <td>97</td>\n",
       "      <td>good soundtrack ever anything I m read lot rev...</td>\n",
       "      <td>54</td>\n",
       "    </tr>\n",
       "    <tr>\n",
       "      <th>2</th>\n",
       "      <td>1</td>\n",
       "      <td>Amazing!: This soundtrack is my favorite musi...</td>\n",
       "      <td>763</td>\n",
       "      <td>129</td>\n",
       "      <td>amazing soundtrack favorite music time hand do...</td>\n",
       "      <td>79</td>\n",
       "    </tr>\n",
       "    <tr>\n",
       "      <th>3</th>\n",
       "      <td>1</td>\n",
       "      <td>Excellent Soundtrack: I truly like this sound...</td>\n",
       "      <td>746</td>\n",
       "      <td>118</td>\n",
       "      <td>excellent soundtrack truly like soundtrack enj...</td>\n",
       "      <td>77</td>\n",
       "    </tr>\n",
       "    <tr>\n",
       "      <th>4</th>\n",
       "      <td>1</td>\n",
       "      <td>Remember, Pull Your Jaw Off The Floor After H...</td>\n",
       "      <td>484</td>\n",
       "      <td>87</td>\n",
       "      <td>remember pull jaw floor hear it play game know...</td>\n",
       "      <td>51</td>\n",
       "    </tr>\n",
       "  </tbody>\n",
       "</table>\n",
       "</div>"
      ],
      "text/plain": [
       "   score                                             review  char_count  \\\n",
       "0      1   Stuning even for the non-gamer: This sound tr...         429   \n",
       "1      1   The best soundtrack ever to anything.: I'm re...         512   \n",
       "2      1   Amazing!: This soundtrack is my favorite musi...         763   \n",
       "3      1   Excellent Soundtrack: I truly like this sound...         746   \n",
       "4      1   Remember, Pull Your Jaw Off The Floor After H...         484   \n",
       "\n",
       "   word_count                                       preprocessed  pp_wc  \n",
       "0          80  stun even non gamer sound track beautiful pain...     44  \n",
       "1          97  good soundtrack ever anything I m read lot rev...     54  \n",
       "2         129  amazing soundtrack favorite music time hand do...     79  \n",
       "3         118  excellent soundtrack truly like soundtrack enj...     77  \n",
       "4          87  remember pull jaw floor hear it play game know...     51  "
      ]
     },
     "execution_count": 22,
     "metadata": {},
     "output_type": "execute_result"
    }
   ],
   "source": [
    "df['preprocessed'] = df['review'].progress_apply(preprocessing)\n",
    "df['preprocessed'] = df['preprocessed'].progress_apply(lambda row: ' '.join([w.lemma_ for w in nlp(row)]))\n",
    "\n",
    "df['pp_wc'] = df['preprocessed'].progress_apply(lambda x: len([word for word in x.split(' ') if word is not '']))\n",
    "\n",
    "df = df[(df['word_count'] > 0)]\n",
    "df.head()"
   ]
  },
  {
   "cell_type": "code",
   "execution_count": 18,
   "metadata": {},
   "outputs": [
    {
     "name": "stderr",
     "output_type": "stream",
     "text": [
      "100%|██████████| 10000/10000 [01:36<00:00, 103.26it/s]\n"
     ]
    }
   ],
   "source": [
    "\n",
    "\n"
   ]
  },
  {
   "cell_type": "code",
   "execution_count": 20,
   "metadata": {
    "scrolled": false
   },
   "outputs": [
    {
     "name": "stdout",
     "output_type": "stream",
     "text": [
      "review:   Stuning even for the non-gamer: This sound track was beautiful! It paints the senery in your mind so well I would recomend it even to people who hate vid. game music! I have played the game Chrono Cross but out of all of the games I have ever played it has the best music! It backs away from crude keyboarding and takes a fresher step with grate guitars and soulful orchestras. It would impress anyone who cares to listen! ^_^\r\n",
      "\n",
      "preprocessed review:  stun even non gamer sound track beautiful paint senery mind well would recomend even people hate vid game music play game chrono cross game ever play good music back away crude keyboarding take fresher step grate guitar soulful orchestra would impress anyone care listen\n",
      "\n",
      "\n",
      "review:   The best soundtrack ever to anything.: I'm reading a lot of reviews saying that this is the best 'game soundtrack' and I figured that I'd write a review to disagree a bit. This in my opinino is Yasunori Mitsuda's ultimate masterpiece. The music is timeless and I'm been listening to it for years now and its beauty simply refuses to fade.The price tag on this is pretty staggering I must say, but if you are going to buy any cd for this much money, this is the only one that I feel would be worth every penny.\r\n",
      "\n",
      "preprocessed review:  good soundtrack ever anything I m read lot review say good game soundtrack figure I d write review disagree bit opinino yasunori mitsuda s ultimate masterpiece music timeless I m listen year beauty simply refuse fade the price tag pretty staggering must say go buy cd much money one feel would worth every penny\n",
      "\n",
      "\n"
     ]
    }
   ],
   "source": [
    "for i, row in df[:2].iterrows():\n",
    "    print('review: ', row['review'])\n",
    "    print('preprocessed review: ', row['preprocessed'])\n",
    "    print()\n",
    "    print()"
   ]
  },
  {
   "cell_type": "markdown",
   "metadata": {},
   "source": [
    "# Balance analysis"
   ]
  },
  {
   "cell_type": "code",
   "execution_count": 23,
   "metadata": {},
   "outputs": [
    {
     "data": {
      "text/html": [
       "<div>\n",
       "<style scoped>\n",
       "    .dataframe tbody tr th:only-of-type {\n",
       "        vertical-align: middle;\n",
       "    }\n",
       "\n",
       "    .dataframe tbody tr th {\n",
       "        vertical-align: top;\n",
       "    }\n",
       "\n",
       "    .dataframe thead th {\n",
       "        text-align: right;\n",
       "    }\n",
       "</style>\n",
       "<table border=\"1\" class=\"dataframe\">\n",
       "  <thead>\n",
       "    <tr style=\"text-align: right;\">\n",
       "      <th></th>\n",
       "      <th>score</th>\n",
       "      <th>char_count</th>\n",
       "      <th>word_count</th>\n",
       "      <th>pp_wc</th>\n",
       "    </tr>\n",
       "  </thead>\n",
       "  <tbody>\n",
       "    <tr>\n",
       "      <th>count</th>\n",
       "      <td>10000.000000</td>\n",
       "      <td>10000.000000</td>\n",
       "      <td>10000.000000</td>\n",
       "      <td>10000.000000</td>\n",
       "    </tr>\n",
       "    <tr>\n",
       "      <th>mean</th>\n",
       "      <td>0.490300</td>\n",
       "      <td>441.702600</td>\n",
       "      <td>79.553200</td>\n",
       "      <td>43.433700</td>\n",
       "    </tr>\n",
       "    <tr>\n",
       "      <th>std</th>\n",
       "      <td>0.499931</td>\n",
       "      <td>239.243635</td>\n",
       "      <td>43.023095</td>\n",
       "      <td>23.721701</td>\n",
       "    </tr>\n",
       "    <tr>\n",
       "      <th>min</th>\n",
       "      <td>0.000000</td>\n",
       "      <td>104.000000</td>\n",
       "      <td>14.000000</td>\n",
       "      <td>4.000000</td>\n",
       "    </tr>\n",
       "    <tr>\n",
       "      <th>25%</th>\n",
       "      <td>0.000000</td>\n",
       "      <td>241.000000</td>\n",
       "      <td>43.000000</td>\n",
       "      <td>24.000000</td>\n",
       "    </tr>\n",
       "    <tr>\n",
       "      <th>50%</th>\n",
       "      <td>0.000000</td>\n",
       "      <td>394.000000</td>\n",
       "      <td>71.000000</td>\n",
       "      <td>39.000000</td>\n",
       "    </tr>\n",
       "    <tr>\n",
       "      <th>75%</th>\n",
       "      <td>1.000000</td>\n",
       "      <td>608.000000</td>\n",
       "      <td>109.000000</td>\n",
       "      <td>59.000000</td>\n",
       "    </tr>\n",
       "    <tr>\n",
       "      <th>max</th>\n",
       "      <td>1.000000</td>\n",
       "      <td>1018.000000</td>\n",
       "      <td>212.000000</td>\n",
       "      <td>144.000000</td>\n",
       "    </tr>\n",
       "  </tbody>\n",
       "</table>\n",
       "</div>"
      ],
      "text/plain": [
       "              score    char_count    word_count         pp_wc\n",
       "count  10000.000000  10000.000000  10000.000000  10000.000000\n",
       "mean       0.490300    441.702600     79.553200     43.433700\n",
       "std        0.499931    239.243635     43.023095     23.721701\n",
       "min        0.000000    104.000000     14.000000      4.000000\n",
       "25%        0.000000    241.000000     43.000000     24.000000\n",
       "50%        0.000000    394.000000     71.000000     39.000000\n",
       "75%        1.000000    608.000000    109.000000     59.000000\n",
       "max        1.000000   1018.000000    212.000000    144.000000"
      ]
     },
     "execution_count": 23,
     "metadata": {},
     "output_type": "execute_result"
    }
   ],
   "source": [
    "df.describe()"
   ]
  },
  {
   "cell_type": "code",
   "execution_count": 38,
   "metadata": {},
   "outputs": [
    {
     "data": {
      "text/html": [
       "<div>\n",
       "<style scoped>\n",
       "    .dataframe tbody tr th:only-of-type {\n",
       "        vertical-align: middle;\n",
       "    }\n",
       "\n",
       "    .dataframe tbody tr th {\n",
       "        vertical-align: top;\n",
       "    }\n",
       "\n",
       "    .dataframe thead th {\n",
       "        text-align: right;\n",
       "    }\n",
       "</style>\n",
       "<table border=\"1\" class=\"dataframe\">\n",
       "  <thead>\n",
       "    <tr style=\"text-align: right;\">\n",
       "      <th></th>\n",
       "      <th>score</th>\n",
       "      <th>char_count</th>\n",
       "      <th>word_count</th>\n",
       "      <th>pp_wc</th>\n",
       "      <th>wc_group</th>\n",
       "    </tr>\n",
       "  </thead>\n",
       "  <tbody>\n",
       "    <tr>\n",
       "      <th>score</th>\n",
       "      <td>1.000000</td>\n",
       "      <td>-0.044603</td>\n",
       "      <td>-0.051935</td>\n",
       "      <td>-0.033837</td>\n",
       "      <td>-0.035627</td>\n",
       "    </tr>\n",
       "    <tr>\n",
       "      <th>char_count</th>\n",
       "      <td>-0.044603</td>\n",
       "      <td>1.000000</td>\n",
       "      <td>0.989204</td>\n",
       "      <td>0.981901</td>\n",
       "      <td>0.974718</td>\n",
       "    </tr>\n",
       "    <tr>\n",
       "      <th>word_count</th>\n",
       "      <td>-0.051935</td>\n",
       "      <td>0.989204</td>\n",
       "      <td>1.000000</td>\n",
       "      <td>0.970073</td>\n",
       "      <td>0.963161</td>\n",
       "    </tr>\n",
       "    <tr>\n",
       "      <th>pp_wc</th>\n",
       "      <td>-0.033837</td>\n",
       "      <td>0.981901</td>\n",
       "      <td>0.970073</td>\n",
       "      <td>1.000000</td>\n",
       "      <td>0.992786</td>\n",
       "    </tr>\n",
       "    <tr>\n",
       "      <th>wc_group</th>\n",
       "      <td>-0.035627</td>\n",
       "      <td>0.974718</td>\n",
       "      <td>0.963161</td>\n",
       "      <td>0.992786</td>\n",
       "      <td>1.000000</td>\n",
       "    </tr>\n",
       "  </tbody>\n",
       "</table>\n",
       "</div>"
      ],
      "text/plain": [
       "               score  char_count  word_count     pp_wc  wc_group\n",
       "score       1.000000   -0.044603   -0.051935 -0.033837 -0.035627\n",
       "char_count -0.044603    1.000000    0.989204  0.981901  0.974718\n",
       "word_count -0.051935    0.989204    1.000000  0.970073  0.963161\n",
       "pp_wc      -0.033837    0.981901    0.970073  1.000000  0.992786\n",
       "wc_group   -0.035627    0.974718    0.963161  0.992786  1.000000"
      ]
     },
     "execution_count": 38,
     "metadata": {},
     "output_type": "execute_result"
    }
   ],
   "source": [
    "step = 10\n",
    "df['wc_group'] = df['pp_wc'].apply(lambda x: int(x / step))\n",
    "positive_df = df[df['score'] == 1]\n",
    "negative_df = df[df['score'] == 0]\n",
    "df.corr()"
   ]
  },
  {
   "cell_type": "code",
   "execution_count": 39,
   "metadata": {},
   "outputs": [
    {
     "data": {
      "text/html": [
       "<div>\n",
       "<style scoped>\n",
       "    .dataframe tbody tr th:only-of-type {\n",
       "        vertical-align: middle;\n",
       "    }\n",
       "\n",
       "    .dataframe tbody tr th {\n",
       "        vertical-align: top;\n",
       "    }\n",
       "\n",
       "    .dataframe thead th {\n",
       "        text-align: right;\n",
       "    }\n",
       "</style>\n",
       "<table border=\"1\" class=\"dataframe\">\n",
       "  <thead>\n",
       "    <tr style=\"text-align: right;\">\n",
       "      <th></th>\n",
       "      <th>positive</th>\n",
       "      <th>negative</th>\n",
       "    </tr>\n",
       "  </thead>\n",
       "  <tbody>\n",
       "    <tr>\n",
       "      <th>0</th>\n",
       "      <td>14</td>\n",
       "      <td>13</td>\n",
       "    </tr>\n",
       "    <tr>\n",
       "      <th>1</th>\n",
       "      <td>923</td>\n",
       "      <td>751</td>\n",
       "    </tr>\n",
       "    <tr>\n",
       "      <th>2</th>\n",
       "      <td>930</td>\n",
       "      <td>903</td>\n",
       "    </tr>\n",
       "    <tr>\n",
       "      <th>3</th>\n",
       "      <td>746</td>\n",
       "      <td>861</td>\n",
       "    </tr>\n",
       "    <tr>\n",
       "      <th>4</th>\n",
       "      <td>612</td>\n",
       "      <td>689</td>\n",
       "    </tr>\n",
       "    <tr>\n",
       "      <th>5</th>\n",
       "      <td>494</td>\n",
       "      <td>572</td>\n",
       "    </tr>\n",
       "    <tr>\n",
       "      <th>6</th>\n",
       "      <td>391</td>\n",
       "      <td>446</td>\n",
       "    </tr>\n",
       "    <tr>\n",
       "      <th>7</th>\n",
       "      <td>301</td>\n",
       "      <td>358</td>\n",
       "    </tr>\n",
       "    <tr>\n",
       "      <th>8</th>\n",
       "      <td>245</td>\n",
       "      <td>277</td>\n",
       "    </tr>\n",
       "    <tr>\n",
       "      <th>9</th>\n",
       "      <td>177</td>\n",
       "      <td>169</td>\n",
       "    </tr>\n",
       "    <tr>\n",
       "      <th>10</th>\n",
       "      <td>59</td>\n",
       "      <td>50</td>\n",
       "    </tr>\n",
       "    <tr>\n",
       "      <th>11</th>\n",
       "      <td>7</td>\n",
       "      <td>7</td>\n",
       "    </tr>\n",
       "  </tbody>\n",
       "</table>\n",
       "</div>"
      ],
      "text/plain": [
       "    positive  negative\n",
       "0         14        13\n",
       "1        923       751\n",
       "2        930       903\n",
       "3        746       861\n",
       "4        612       689\n",
       "5        494       572\n",
       "6        391       446\n",
       "7        301       358\n",
       "8        245       277\n",
       "9        177       169\n",
       "10        59        50\n",
       "11         7         7"
      ]
     },
     "execution_count": 39,
     "metadata": {},
     "output_type": "execute_result"
    }
   ],
   "source": [
    "from functools import reduce\n",
    "\n",
    "positive_stats = positive_df['wc_group'].value_counts(sort=False).to_frame()\n",
    "negative_stats = negative_df['wc_group'].value_counts(sort=False).to_frame()\n",
    "\n",
    "stats = [positive_stats, negative_stats]\n",
    "stats_df = reduce(lambda left, right: pd.merge(left, right, left_index=True, right_index=True), stats)\n",
    "stats_df.columns = ['positive', 'negative']\n",
    "stats_df = stats_df.sort_index()\n",
    "\n",
    "stats_df"
   ]
  },
  {
   "cell_type": "code",
   "execution_count": 42,
   "metadata": {},
   "outputs": [
    {
     "data": {
      "text/html": [
       "<div>\n",
       "<style scoped>\n",
       "    .dataframe tbody tr th:only-of-type {\n",
       "        vertical-align: middle;\n",
       "    }\n",
       "\n",
       "    .dataframe tbody tr th {\n",
       "        vertical-align: top;\n",
       "    }\n",
       "\n",
       "    .dataframe thead th {\n",
       "        text-align: right;\n",
       "    }\n",
       "</style>\n",
       "<table border=\"1\" class=\"dataframe\">\n",
       "  <thead>\n",
       "    <tr style=\"text-align: right;\">\n",
       "      <th></th>\n",
       "      <th>score</th>\n",
       "      <th>review</th>\n",
       "      <th>char_count</th>\n",
       "      <th>word_count</th>\n",
       "      <th>preprocessed</th>\n",
       "      <th>pp_wc</th>\n",
       "      <th>wc_group</th>\n",
       "    </tr>\n",
       "  </thead>\n",
       "  <tbody>\n",
       "    <tr>\n",
       "      <th>7933</th>\n",
       "      <td>1</td>\n",
       "      <td>A few more chances: If life could be that way...</td>\n",
       "      <td>104</td>\n",
       "      <td>21</td>\n",
       "      <td>chance life could way chance make thing right</td>\n",
       "      <td>8</td>\n",
       "      <td>0</td>\n",
       "    </tr>\n",
       "    <tr>\n",
       "      <th>7657</th>\n",
       "      <td>1</td>\n",
       "      <td>I am pleased: Receiving this product was righ...</td>\n",
       "      <td>112</td>\n",
       "      <td>20</td>\n",
       "      <td>please receive product right time opinion book...</td>\n",
       "      <td>9</td>\n",
       "      <td>0</td>\n",
       "    </tr>\n",
       "    <tr>\n",
       "      <th>9989</th>\n",
       "      <td>1</td>\n",
       "      <td>classic: i got this for my dad. it is super c...</td>\n",
       "      <td>104</td>\n",
       "      <td>22</td>\n",
       "      <td>classic get dad super creepy worth watch watch...</td>\n",
       "      <td>9</td>\n",
       "      <td>0</td>\n",
       "    </tr>\n",
       "    <tr>\n",
       "      <th>4210</th>\n",
       "      <td>1</td>\n",
       "      <td>WOW!!: This product definitely does what is s...</td>\n",
       "      <td>139</td>\n",
       "      <td>27</td>\n",
       "      <td>wow product definitely say do problem thick po...</td>\n",
       "      <td>9</td>\n",
       "      <td>0</td>\n",
       "    </tr>\n",
       "    <tr>\n",
       "      <th>771</th>\n",
       "      <td>1</td>\n",
       "      <td>Wonderful classic: I enjoy this book very muc...</td>\n",
       "      <td>120</td>\n",
       "      <td>24</td>\n",
       "      <td>wonderful classic enjoy book much timely class...</td>\n",
       "      <td>9</td>\n",
       "      <td>0</td>\n",
       "    </tr>\n",
       "  </tbody>\n",
       "</table>\n",
       "</div>"
      ],
      "text/plain": [
       "      score                                             review  char_count  \\\n",
       "7933      1   A few more chances: If life could be that way...         104   \n",
       "7657      1   I am pleased: Receiving this product was righ...         112   \n",
       "9989      1   classic: i got this for my dad. it is super c...         104   \n",
       "4210      1   WOW!!: This product definitely does what is s...         139   \n",
       "771       1   Wonderful classic: I enjoy this book very muc...         120   \n",
       "\n",
       "      word_count                                       preprocessed  pp_wc  \\\n",
       "7933          21      chance life could way chance make thing right      8   \n",
       "7657          20  please receive product right time opinion book...      9   \n",
       "9989          22  classic get dad super creepy worth watch watch...      9   \n",
       "4210          27  wow product definitely say do problem thick po...      9   \n",
       "771           24  wonderful classic enjoy book much timely class...      9   \n",
       "\n",
       "      wc_group  \n",
       "7933         0  \n",
       "7657         0  \n",
       "9989         0  \n",
       "4210         0  \n",
       "771          0  "
      ]
     },
     "execution_count": 42,
     "metadata": {},
     "output_type": "execute_result"
    }
   ],
   "source": [
    "dataframes = [positive_df, negative_df]\n",
    "max_word_count = 150\n",
    "\n",
    "result_dfs = []\n",
    "for dataframe in dataframes:\n",
    "    restricted_df = dataframe[dataframe['pp_wc'] < max_word_count]\n",
    "    for name, group in restricted_df.groupby('wc_group'):\n",
    "        if name not in stats_df.index:\n",
    "            continue\n",
    "        \n",
    "        n_samples = stats_df.loc[int(name)].min()\n",
    "        sampled_df = group.sample(n=n_samples)\n",
    "        \n",
    "        result_dfs.append(sampled_df)\n",
    "        \n",
    "balanced_df = reduce(lambda left, right: left.append(right), result_dfs)\n",
    "balanced_df.head()"
   ]
  },
  {
   "cell_type": "code",
   "execution_count": 43,
   "metadata": {},
   "outputs": [
    {
     "data": {
      "text/html": [
       "<div>\n",
       "<style scoped>\n",
       "    .dataframe tbody tr th:only-of-type {\n",
       "        vertical-align: middle;\n",
       "    }\n",
       "\n",
       "    .dataframe tbody tr th {\n",
       "        vertical-align: top;\n",
       "    }\n",
       "\n",
       "    .dataframe thead th {\n",
       "        text-align: right;\n",
       "    }\n",
       "</style>\n",
       "<table border=\"1\" class=\"dataframe\">\n",
       "  <thead>\n",
       "    <tr style=\"text-align: right;\">\n",
       "      <th></th>\n",
       "      <th>score</th>\n",
       "      <th>char_count</th>\n",
       "      <th>word_count</th>\n",
       "      <th>pp_wc</th>\n",
       "      <th>wc_group</th>\n",
       "    </tr>\n",
       "  </thead>\n",
       "  <tbody>\n",
       "    <tr>\n",
       "      <th>count</th>\n",
       "      <td>9364.000000</td>\n",
       "      <td>9364.000000</td>\n",
       "      <td>9364.000000</td>\n",
       "      <td>9364.000000</td>\n",
       "      <td>9364.000000</td>\n",
       "    </tr>\n",
       "    <tr>\n",
       "      <th>mean</th>\n",
       "      <td>0.500000</td>\n",
       "      <td>441.658372</td>\n",
       "      <td>79.557561</td>\n",
       "      <td>43.416168</td>\n",
       "      <td>3.892354</td>\n",
       "    </tr>\n",
       "    <tr>\n",
       "      <th>std</th>\n",
       "      <td>0.500027</td>\n",
       "      <td>238.789478</td>\n",
       "      <td>42.942659</td>\n",
       "      <td>23.644911</td>\n",
       "      <td>2.371362</td>\n",
       "    </tr>\n",
       "    <tr>\n",
       "      <th>min</th>\n",
       "      <td>0.000000</td>\n",
       "      <td>104.000000</td>\n",
       "      <td>14.000000</td>\n",
       "      <td>4.000000</td>\n",
       "      <td>0.000000</td>\n",
       "    </tr>\n",
       "    <tr>\n",
       "      <th>25%</th>\n",
       "      <td>0.000000</td>\n",
       "      <td>242.000000</td>\n",
       "      <td>44.000000</td>\n",
       "      <td>24.000000</td>\n",
       "      <td>2.000000</td>\n",
       "    </tr>\n",
       "    <tr>\n",
       "      <th>50%</th>\n",
       "      <td>0.500000</td>\n",
       "      <td>393.000000</td>\n",
       "      <td>71.000000</td>\n",
       "      <td>38.000000</td>\n",
       "      <td>3.000000</td>\n",
       "    </tr>\n",
       "    <tr>\n",
       "      <th>75%</th>\n",
       "      <td>1.000000</td>\n",
       "      <td>607.000000</td>\n",
       "      <td>109.000000</td>\n",
       "      <td>59.000000</td>\n",
       "      <td>5.000000</td>\n",
       "    </tr>\n",
       "    <tr>\n",
       "      <th>max</th>\n",
       "      <td>1.000000</td>\n",
       "      <td>1018.000000</td>\n",
       "      <td>207.000000</td>\n",
       "      <td>118.000000</td>\n",
       "      <td>11.000000</td>\n",
       "    </tr>\n",
       "  </tbody>\n",
       "</table>\n",
       "</div>"
      ],
      "text/plain": [
       "             score   char_count   word_count        pp_wc     wc_group\n",
       "count  9364.000000  9364.000000  9364.000000  9364.000000  9364.000000\n",
       "mean      0.500000   441.658372    79.557561    43.416168     3.892354\n",
       "std       0.500027   238.789478    42.942659    23.644911     2.371362\n",
       "min       0.000000   104.000000    14.000000     4.000000     0.000000\n",
       "25%       0.000000   242.000000    44.000000    24.000000     2.000000\n",
       "50%       0.500000   393.000000    71.000000    38.000000     3.000000\n",
       "75%       1.000000   607.000000   109.000000    59.000000     5.000000\n",
       "max       1.000000  1018.000000   207.000000   118.000000    11.000000"
      ]
     },
     "execution_count": 43,
     "metadata": {},
     "output_type": "execute_result"
    }
   ],
   "source": [
    "balanced_df.describe()"
   ]
  },
  {
   "cell_type": "code",
   "execution_count": 44,
   "metadata": {},
   "outputs": [
    {
     "data": {
      "text/html": [
       "<div>\n",
       "<style scoped>\n",
       "    .dataframe tbody tr th:only-of-type {\n",
       "        vertical-align: middle;\n",
       "    }\n",
       "\n",
       "    .dataframe tbody tr th {\n",
       "        vertical-align: top;\n",
       "    }\n",
       "\n",
       "    .dataframe thead th {\n",
       "        text-align: right;\n",
       "    }\n",
       "</style>\n",
       "<table border=\"1\" class=\"dataframe\">\n",
       "  <thead>\n",
       "    <tr style=\"text-align: right;\">\n",
       "      <th></th>\n",
       "      <th>score</th>\n",
       "      <th>char_count</th>\n",
       "      <th>word_count</th>\n",
       "      <th>pp_wc</th>\n",
       "      <th>wc_group</th>\n",
       "    </tr>\n",
       "  </thead>\n",
       "  <tbody>\n",
       "    <tr>\n",
       "      <th>score</th>\n",
       "      <td>1.000000e+00</td>\n",
       "      <td>-0.008182</td>\n",
       "      <td>-0.016004</td>\n",
       "      <td>0.001414</td>\n",
       "      <td>-8.320080e-18</td>\n",
       "    </tr>\n",
       "    <tr>\n",
       "      <th>char_count</th>\n",
       "      <td>-8.182368e-03</td>\n",
       "      <td>1.000000</td>\n",
       "      <td>0.989140</td>\n",
       "      <td>0.982274</td>\n",
       "      <td>9.750682e-01</td>\n",
       "    </tr>\n",
       "    <tr>\n",
       "      <th>word_count</th>\n",
       "      <td>-1.600374e-02</td>\n",
       "      <td>0.989140</td>\n",
       "      <td>1.000000</td>\n",
       "      <td>0.970250</td>\n",
       "      <td>9.633152e-01</td>\n",
       "    </tr>\n",
       "    <tr>\n",
       "      <th>pp_wc</th>\n",
       "      <td>1.413736e-03</td>\n",
       "      <td>0.982274</td>\n",
       "      <td>0.970250</td>\n",
       "      <td>1.000000</td>\n",
       "      <td>9.927257e-01</td>\n",
       "    </tr>\n",
       "    <tr>\n",
       "      <th>wc_group</th>\n",
       "      <td>-8.320080e-18</td>\n",
       "      <td>0.975068</td>\n",
       "      <td>0.963315</td>\n",
       "      <td>0.992726</td>\n",
       "      <td>1.000000e+00</td>\n",
       "    </tr>\n",
       "  </tbody>\n",
       "</table>\n",
       "</div>"
      ],
      "text/plain": [
       "                   score  char_count  word_count     pp_wc      wc_group\n",
       "score       1.000000e+00   -0.008182   -0.016004  0.001414 -8.320080e-18\n",
       "char_count -8.182368e-03    1.000000    0.989140  0.982274  9.750682e-01\n",
       "word_count -1.600374e-02    0.989140    1.000000  0.970250  9.633152e-01\n",
       "pp_wc       1.413736e-03    0.982274    0.970250  1.000000  9.927257e-01\n",
       "wc_group   -8.320080e-18    0.975068    0.963315  0.992726  1.000000e+00"
      ]
     },
     "execution_count": 44,
     "metadata": {},
     "output_type": "execute_result"
    }
   ],
   "source": [
    "balanced_df.corr()"
   ]
  },
  {
   "cell_type": "markdown",
   "metadata": {},
   "source": [
    "# Эмбеддинги"
   ]
  },
  {
   "cell_type": "code",
   "execution_count": 46,
   "metadata": {},
   "outputs": [
    {
     "name": "stderr",
     "output_type": "stream",
     "text": [
      "D:\\SoftwareProjects\\anaconda3\\envs\\tf-gpu\\lib\\site-packages\\ipykernel_launcher.py:15: TqdmDeprecationWarning: This function will be removed in tqdm==5.0.0\n",
      "Please use `tqdm.notebook.tqdm` instead of `tqdm.tqdm_notebook`\n",
      "  from ipykernel import kernelapp as app\n"
     ]
    },
    {
     "data": {
      "application/vnd.jupyter.widget-view+json": {
       "model_id": "7884ed2b1a9c48dc9ce79f5c3d78dbcc",
       "version_major": 2,
       "version_minor": 0
      },
      "text/plain": [
       "HBox(children=(HTML(value=''), FloatProgress(value=0.0, max=999995.0), HTML(value='')))"
      ]
     },
     "metadata": {},
     "output_type": "display_data"
    },
    {
     "name": "stdout",
     "output_type": "stream",
     "text": [
      "\n"
     ]
    }
   ],
   "source": [
    "import numpy as np\n",
    "import mmap\n",
    "embeddings_path = 'fasttext.wiki-news-300d-1M.vec'\n",
    "\n",
    "def get_num_lines(file_path):\n",
    "    fp = open(file_path, \"r+\")\n",
    "    buf = mmap.mmap(fp.fileno(), 0)\n",
    "    lines = 0\n",
    "    while buf.readline():\n",
    "        lines += 1\n",
    "    return lines\n",
    "\n",
    "embeddings_dict = {}\n",
    "with open(embeddings_path, 'r', encoding='utf-8') as file:\n",
    "    for line in tqdm_notebook(file, total=get_num_lines(embeddings_path)):\n",
    "        values = line.split()\n",
    "        word = values[0].lower()\n",
    "        if word in embeddings_dict:\n",
    "            continue\n",
    "        \n",
    "        vector = np.asarray(values[1:], dtype='float32')\n",
    "        embeddings_dict[word] = vector"
   ]
  },
  {
   "cell_type": "markdown",
   "metadata": {},
   "source": [
    "## Split dataframes"
   ]
  },
  {
   "cell_type": "code",
   "execution_count": 53,
   "metadata": {},
   "outputs": [],
   "source": [
    "def split_dataframe(dataframe):\n",
    "    test = dataframe.sample(n=500)\n",
    "    train = dataframe.loc[~dataframe.index.isin(test.index)].sample(frac=1)\n",
    "    \n",
    "    return (train, test)\n",
    "\n",
    "def get_train_test_sets(dataframe):\n",
    "    positive_sentiment_df = dataframe[dataframe['score'] == 1]\n",
    "    negative_sentiment_df = dataframe[dataframe['score'] == 0]\n",
    "    \n",
    "    positive_split = split_dataframe(positive_sentiment_df)\n",
    "    negative_split = split_dataframe(negative_sentiment_df)\n",
    "\n",
    "    train = positive_split[0].append(negative_split[0])\n",
    "    test = positive_split[1].append(negative_split[1])\n",
    "    return (train, test)"
   ]
  },
  {
   "cell_type": "markdown",
   "metadata": {},
   "source": [
    "## Naive approach - bag of word representation"
   ]
  },
  {
   "cell_type": "code",
   "execution_count": 47,
   "metadata": {},
   "outputs": [],
   "source": [
    "def average_vectorizations(row):\n",
    "    vectors = []\n",
    "    for word in row.split():\n",
    "        if word in embeddings_dict:\n",
    "            vectors.append(embeddings_dict[word])\n",
    "    \n",
    "    result_vector = np.mean(vectors, axis=0)\n",
    "    return result_vector"
   ]
  },
  {
   "cell_type": "code",
   "execution_count": 51,
   "metadata": {},
   "outputs": [
    {
     "name": "stderr",
     "output_type": "stream",
     "text": [
      "100%|██████████| 9364/9364 [00:00<00:00, 12937.16it/s]\n"
     ]
    }
   ],
   "source": [
    "naive_df = balanced_df.copy()\n",
    "naive_df['vector'] = naive_df['preprocessed'].progress_apply(average_vectorizations)"
   ]
  },
  {
   "cell_type": "code",
   "execution_count": 57,
   "metadata": {},
   "outputs": [],
   "source": [
    "train, test = get_train_test_sets(naive_df)\n",
    "\n",
    "def get_arrayed_data(df_set):\n",
    "    setX = np.stack(df_set['vector'].values, axis=0)\n",
    "    setY = np.stack(df_set['score'].values, axis=0)        \n",
    "    return (setX, setY)\n",
    "\n",
    "trainX, trainY = get_arrayed_data(train)\n",
    "testX, testY = get_arrayed_data(test)"
   ]
  },
  {
   "cell_type": "markdown",
   "metadata": {},
   "source": [
    "### KNN"
   ]
  },
  {
   "cell_type": "code",
   "execution_count": 60,
   "metadata": {},
   "outputs": [
    {
     "data": {
      "text/plain": [
       "KNeighborsClassifier()"
      ]
     },
     "execution_count": 60,
     "metadata": {},
     "output_type": "execute_result"
    }
   ],
   "source": [
    "from sklearn.neighbors import KNeighborsClassifier\n",
    "from sklearn.metrics import f1_score\n",
    "\n",
    "knn = KNeighborsClassifier(n_neighbors=5)\n",
    "knn.fit(trainX, trainY)"
   ]
  },
  {
   "cell_type": "code",
   "execution_count": 62,
   "metadata": {},
   "outputs": [
    {
     "name": "stdout",
     "output_type": "stream",
     "text": [
      "Train F1: 0.8279361884048898, Test F1: 0.7449426120877197\n"
     ]
    }
   ],
   "source": [
    "train_pred = knn.predict(trainX)\n",
    "f1_train = f1_score(trainY, train_pred, average='weighted')\n",
    "\n",
    "test_pred = knn.predict(testX)\n",
    "f1_test = f1_score(testY, test_pred, average='weighted')\n",
    "\n",
    "print(f'Train F1: {f1_train}, Test F1: {f1_test}')"
   ]
  },
  {
   "cell_type": "markdown",
   "metadata": {},
   "source": [
    "## Sklearn models comparison"
   ]
  },
  {
   "cell_type": "code",
   "execution_count": 64,
   "metadata": {},
   "outputs": [],
   "source": [
    "from sklearn.model_selection import train_test_split\n",
    "from sklearn.preprocessing import StandardScaler\n",
    "from sklearn.datasets import make_moons, make_circles, make_classification\n",
    "from sklearn.neural_network import MLPClassifier\n",
    "from sklearn.neighbors import KNeighborsClassifier\n",
    "from sklearn.svm import SVC\n",
    "from sklearn.gaussian_process import GaussianProcessClassifier\n",
    "from sklearn.gaussian_process.kernels import RBF\n",
    "from sklearn.tree import DecisionTreeClassifier\n",
    "from sklearn.ensemble import RandomForestClassifier, AdaBoostClassifier\n",
    "from sklearn.naive_bayes import GaussianNB\n",
    "from sklearn.discriminant_analysis import QuadraticDiscriminantAnalysis\n",
    "\n",
    "names = [\n",
    "    \"Nearest Neighbors\",\n",
    "    \"Linear SVM\",\n",
    "    \"RBF SVM\",\n",
    "    \"Gaussian Process\",\n",
    "    \"Decision Tree\",\n",
    "    \"Random Forest\",\n",
    "    \"Neural Net\",\n",
    "    \"AdaBoost\",\n",
    "    \"Naive Bayes\",\n",
    "    \"QDA\"\n",
    "    ]\n",
    "\n",
    "classifiers = [\n",
    "    KNeighborsClassifier(3),\n",
    "    SVC(kernel=\"linear\", C=0.025),\n",
    "    SVC(gamma=2, C=1),\n",
    "    GaussianProcessClassifier(1.0 * RBF(1.0)),\n",
    "    DecisionTreeClassifier(max_depth=5),\n",
    "    RandomForestClassifier(max_depth=5, n_estimators=10, max_features=1),\n",
    "    MLPClassifier(alpha=1, max_iter=1000),\n",
    "    AdaBoostClassifier(),\n",
    "    GaussianNB(),\n",
    "    QuadraticDiscriminantAnalysis()\n",
    "]"
   ]
  },
  {
   "cell_type": "code",
   "execution_count": 65,
   "metadata": {},
   "outputs": [
    {
     "name": "stdout",
     "output_type": "stream",
     "text": [
      "Nearest Neighbors\n",
      "Train F1: 0.8602337602437479, Test F1: 0.7339829749103942\n",
      "\n",
      "\n",
      "Linear SVM\n",
      "Train F1: 0.7410664640754129, Test F1: 0.7531314519598843\n",
      "\n",
      "\n",
      "RBF SVM\n",
      "Train F1: 0.8748205150306803, Test F1: 0.853985398539854\n",
      "\n",
      "\n",
      "Gaussian Process\n",
      "Train F1: 0.9179816580487216, Test F1: 0.8509986589879308\n",
      "\n",
      "\n",
      "Decision Tree\n",
      "Train F1: 0.7271028832854559, Test F1: 0.6782380314602765\n",
      "\n",
      "\n",
      "Random Forest\n",
      "Train F1: 0.7130369863439823, Test F1: 0.6625866686691197\n",
      "\n",
      "\n",
      "Neural Net\n",
      "Train F1: 0.821854746426091, Test F1: 0.8269084345618832\n",
      "\n",
      "\n",
      "AdaBoost\n",
      "Train F1: 0.7953109533071439, Test F1: 0.7608505315822389\n",
      "\n",
      "\n",
      "Naive Bayes\n",
      "Train F1: 0.7533539311889077, Test F1: 0.7725393922693454\n",
      "\n",
      "\n",
      "QDA\n",
      "Train F1: 0.9354359616444531, Test F1: 0.8029130846703396\n",
      "\n",
      "\n"
     ]
    }
   ],
   "source": [
    "for name, clf in zip(names, classifiers):\n",
    "    print(name)\n",
    "    clf.fit(trainX, trainY)\n",
    "    \n",
    "    train_pred = clf.predict(trainX)\n",
    "    f1_train = f1_score(trainY, train_pred, average='weighted')\n",
    "\n",
    "    test_pred = clf.predict(testX)\n",
    "    f1_test = f1_score(testY, test_pred, average='weighted')\n",
    "\n",
    "    print(f'Train F1: {f1_train}, Test F1: {f1_test}')\n",
    "    print()\n",
    "    print()"
   ]
  },
  {
   "cell_type": "code",
   "execution_count": null,
   "metadata": {},
   "outputs": [],
   "source": []
  }
 ],
 "metadata": {
  "kernelspec": {
   "display_name": "Python 3",
   "language": "python",
   "name": "python3"
  },
  "language_info": {
   "codemirror_mode": {
    "name": "ipython",
    "version": 3
   },
   "file_extension": ".py",
   "mimetype": "text/x-python",
   "name": "python",
   "nbconvert_exporter": "python",
   "pygments_lexer": "ipython3",
   "version": "3.7.9"
  }
 },
 "nbformat": 4,
 "nbformat_minor": 4
}
